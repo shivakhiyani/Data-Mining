{
  "nbformat": 4,
  "nbformat_minor": 0,
  "metadata": {
    "colab": {
      "name": "Q4 fashionmnist.ipynb",
      "provenance": []
    },
    "kernelspec": {
      "name": "python3",
      "display_name": "Python 3"
    },
    "accelerator": "GPU"
  },
  "cells": [
    {
      "cell_type": "code",
      "metadata": {
        "id": "3QyNM2kKBYIs"
      },
      "source": [
        "import pandas as pd\r\n",
        "import numpy as np\r\n",
        "import math\r\n",
        "import scipy.stats as stats\r\n",
        "from sklearn.mixture import GaussianMixture\r\n",
        "import matplotlib as plt\r\n"
      ],
      "execution_count": null,
      "outputs": []
    },
    {
      "cell_type": "code",
      "metadata": {
        "colab": {
          "base_uri": "https://localhost:8080/"
        },
        "id": "PKCkfi2WCFZ2",
        "outputId": "d1ee0714-372c-4c67-d619-3997f9a59b91"
      },
      "source": [
        "\r\n",
        "from tensorflow import  keras\r\n",
        "#from keras.datasets import fashion_mnist\r\n",
        "# load dataset\r\n",
        "(train_images, train_labels), (test_images, test_labels) = keras.datasets.fashion_mnist.load_data()\r\n",
        "# summarize dataset shape\r\n",
        "print('Train', train_images.shape, train_labels.shape)\r\n",
        "print('Test', (test_images.shape, test_labels.shape))\r\n",
        "test_vector = np.reshape(test_images, (10000, 28 * 28))"
      ],
      "execution_count": null,
      "outputs": [
        {
          "output_type": "stream",
          "text": [
            "Downloading data from https://storage.googleapis.com/tensorflow/tf-keras-datasets/train-labels-idx1-ubyte.gz\n",
            "32768/29515 [=================================] - 0s 0us/step\n",
            "Downloading data from https://storage.googleapis.com/tensorflow/tf-keras-datasets/train-images-idx3-ubyte.gz\n",
            "26427392/26421880 [==============================] - 0s 0us/step\n",
            "Downloading data from https://storage.googleapis.com/tensorflow/tf-keras-datasets/t10k-labels-idx1-ubyte.gz\n",
            "8192/5148 [===============================================] - 0s 0us/step\n",
            "Downloading data from https://storage.googleapis.com/tensorflow/tf-keras-datasets/t10k-images-idx3-ubyte.gz\n",
            "4423680/4422102 [==============================] - 0s 0us/step\n",
            "Train (60000, 28, 28) (60000,)\n",
            "Test ((10000, 28, 28), (10000,))\n"
          ],
          "name": "stdout"
        }
      ]
    },
    {
      "cell_type": "code",
      "metadata": {
        "colab": {
          "base_uri": "https://localhost:8080/"
        },
        "id": "rZh9ft2ICQ5A",
        "outputId": "8b741d27-4408-4818-e68f-17395aa66bec"
      },
      "source": [
        "g=GaussianMixture(2,covariance_type='diag')\r\n",
        "g.fit(test_vector)\r\n",
        "g.means_[1]\r\n",
        "print(g.score(test_vector))"
      ],
      "execution_count": null,
      "outputs": [
        {
          "output_type": "stream",
          "text": [
            "-3965.7494004680575\n"
          ],
          "name": "stdout"
        }
      ]
    },
    {
      "cell_type": "code",
      "metadata": {
        "id": "F9Hj1BeBDSIc"
      },
      "source": [
        "aic =[]\r\n",
        "n= len(test_vector)\r\n",
        "for k in range(1,100):\r\n",
        "  g = GaussianMixture(k,covariance_type='diag')\r\n",
        "  g.fit(test_vector)\r\n",
        "  # print(k,g.aic(test_vector))\r\n",
        "  aic.append(g.aic(test_vector))\r\n",
        "\r\n"
      ],
      "execution_count": null,
      "outputs": []
    },
    {
      "cell_type": "code",
      "metadata": {
        "colab": {
          "base_uri": "https://localhost:8080/",
          "height": 306
        },
        "id": "VV-p7U3uJM5c",
        "outputId": "195d6699-b24b-4d29-ff8e-0e5399806ac8"
      },
      "source": [
        " import matplotlib.pyplot as plt\r\n",
        "plt.plot(np.arange(99),aic)\r\n",
        "plt.xlabel(\"k\")\r\n",
        "plt.ylabel(\"AIC\")"
      ],
      "execution_count": null,
      "outputs": [
        {
          "output_type": "execute_result",
          "data": {
            "text/plain": [
              "Text(0, 0.5, 'AIC')"
            ]
          },
          "metadata": {
            "tags": []
          },
          "execution_count": 10
        },
        {
          "output_type": "display_data",
          "data": {
            "image/png": "[encoded data removed]",
            "text/plain": [
              "<Figure size 432x288 with 1 Axes>"
            ]
          },
          "metadata": {
            "tags": [],
            "needs_background": "light"
          }
        }
      ]
    }
  ]
}