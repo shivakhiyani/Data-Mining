{
  "nbformat": 4,
  "nbformat_minor": 0,
  "metadata": {
    "colab": {
      "name": "3gaussian.ipynb",
      "provenance": [],
      "collapsed_sections": [],
      "machine_shape": "hm"
    },
    "kernelspec": {
      "name": "python3",
      "display_name": "Python 3"
    },
    "accelerator": "GPU"
  },
  "cells": [
    {
      "cell_type": "code",
      "metadata": {
        "id": "fT91lN9M1bkg"
      },
      "source": [
        "import pandas as pd\r\n",
        "import numpy as np\r\n",
        "import math\r\n",
        "import scipy.stats as stats\r\n",
        "\r\n",
        "def parameters_initialize():\r\n",
        "  u1 = np.random.random(2)\r\n",
        "  sigma1 = np.array([[3,2],[2,2]])\r\n",
        "  u2 = np.random.random(2)\r\n",
        "  sigma2 = np.array([[2,1],[1,2]])\r\n",
        "  u3 = np.random.random(2)\r\n",
        "  sigma3 = np.array([[3,3],[2,2]])\r\n",
        "  w0=1/3\r\n",
        "  w1 = 1/3\r\n",
        "  w2 = 1-w0-w1\r\n",
        "  return (u1,u2,u3,sigma1,sigma2,sigma3,w0,w1,w2)\r\n",
        "# parameters_initialize()\r\n",
        "\r\n",
        "def calculate_membership(u1,u2,u3,sigma1,sigma2,sigma3,w0,w1,w2,x):\r\n",
        "  norm1= stats.multivariate_normal(mean=u1,cov=sigma1)\r\n",
        "  norm2 = stats.multivariate_normal(mean=u2,cov=sigma2)\r\n",
        "  norm3 = stats.multivariate_normal(mean=u3,cov=sigma3)\r\n",
        "  Pi = np.zeros((len(x),3))\r\n",
        "  loglk =[]\r\n",
        "  for i in range(1,len(x)+1):\r\n",
        "    Pi[i-1][0]=(w0*norm1.pdf(x[i-1:i]))/((w0*norm1.pdf(x[i-1:i]))+(w1*norm2.pdf(x[i-1:i]))+(w2*norm3.pdf(x[i-1:i])))\r\n",
        "    Pi[i-1][1]=(w1*norm2.pdf(x[i-1:i]))/((w0*norm1.pdf(x[i-1:i]))+(w1*norm2.pdf(x[i-1:i]))+(w2*norm3.pdf(x[i-1:i])))\r\n",
        "    Pi[i-1][2]=(w2*norm3.pdf(x[i-1:i]))/((w0*norm1.pdf(x[i-1:i]))+(w1*norm2.pdf(x[i-1:i]))+(w2*norm3.pdf(x[i-1:i])))\r\n",
        "    # loglk.append(Pi[i-1][0]*(norm1.logpdf(x[i-1:i])+math.log(w0))+Pi[i-1][1]*(norm2.logpdf(x[i-1:i])+math.log(w0)))\r\n",
        "  return Pi\r\n",
        "# u1,u2,u3,sigma1,sigma2,sigma3,w0,w1,w2=parameters_initialize()\r\n",
        "# print(calculate_membership(u1,u2,u3,sigma1,sigma2,sigma3,w0,w1,w2,x))\r\n"
      ],
      "execution_count": null,
      "outputs": []
    },
    {
      "cell_type": "code",
      "metadata": {
        "id": "Q_WRFS0j663s"
      },
      "source": [
        "def update_parameters(Pi,u1,u2,u3,):\r\n",
        "  sigma_sum_1 =np.zeros((2,2))\r\n",
        "  sigma_sum_2 = np.zeros((2,2))\r\n",
        "  sigma_sum_3 = np.zeros((2,2))\r\n",
        "  for i in range(1,len(x)+1):\r\n",
        "    sigma_sum_1 = sigma_sum_1+Pi[i-1,0]*np.matmul((x[i-1:i]-u1.reshape(1,2)).T.values.tolist(),(x[i-1:i]-u1.reshape(1,2)).values.tolist())\r\n",
        "    sigma_sum_2 = sigma_sum_2+Pi[i-1,1]*np.matmul((x[i-1:i]-u2.reshape(1,2)).T.values.tolist(),(x[i-1:i]-u2.reshape(1,2)).values.tolist())\r\n",
        "    sigma_sum_3 = sigma_sum_3+Pi[i-1,2]*np.matmul((x[i-1:i]-u3.reshape(1,2)).T.values.tolist(),(x[i-1:i]-u3.reshape(1,2)).values.tolist())\r\n",
        "  sigma1=sigma_sum_1/sum(Pi[:,0])\r\n",
        "  sigma2=sigma_sum_2/sum(Pi[:,1])\r\n",
        "  sigma3=sigma_sum_3/sum(Pi[:,2])\r\n",
        "\r\n",
        "  u1[0]= sum(Pi[:,0]*x.iloc[:,0])/sum(Pi[:,0])\r\n",
        "  u1[1]= sum(Pi[:,0]*x.iloc[:,1])/sum(Pi[:,0])\r\n",
        "  \r\n",
        "\r\n",
        "  u2[0]= sum(Pi[:,1]*x.iloc[:,0])/sum(Pi[:,1])\r\n",
        "  u2[1]= sum(Pi[:,1]*x.iloc[:,1])/sum(Pi[:,1])\r\n",
        "  \r\n",
        "\r\n",
        "  u3[0]= sum(Pi[:,2]*x.iloc[:,0])/sum(Pi[:,2])\r\n",
        "  u3[1]= sum(Pi[:,2]*x.iloc[:,1])/sum(Pi[:,2])\r\n",
        "\r\n",
        "  w0 = sum(Pi[:,0])/len(Pi)\r\n",
        "  w1 = sum(Pi[:,1])/len(Pi)\r\n",
        "  w2=1-w0-w1\r\n",
        "  return(u1,u2,u3,sigma1,sigma2,sigma3,w0,w1,w2)"
      ],
      "execution_count": null,
      "outputs": []
    },
    {
      "cell_type": "code",
      "metadata": {
        "id": "y_Rzqy_V3AGB"
      },
      "source": [
        "url = \"http://www.ccs.neu.edu/home/vip/teach/DMcourse/2_cluster_EM_mixt/HW2/3gaussian.txt\"\r\n",
        "x = pd.read_csv(url,sep=' ',header=None,names=['D1','D2'])"
      ],
      "execution_count": null,
      "outputs": []
    },
    {
      "cell_type": "code",
      "metadata": {
        "id": "czyXBcVS-3vI",
        "colab": {
          "base_uri": "https://localhost:8080/"
        },
        "outputId": "a4a26a12-d1fb-43ed-d7bd-215117bf20d7"
      },
      "source": [
        "def Em_threegmm():\r\n",
        "  n=0\r\n",
        "  u1,u2,u3,sigma1,sigma2,sigma3,w0,w1,w2=parameters_initialize()\r\n",
        "  while n<50:\r\n",
        "    Pi=calculate_membership(u1,u2,u3,sigma1,sigma2,sigma3,w0,w1,w2,x)\r\n",
        "    u1,u2,u3,sigma1,sigma2,sigma3,w0,w1,w2=update_parameters(Pi,u1,u2,u3,)\r\n",
        "    n+=1\r\n",
        "  return u1,u2,u3,sigma1,sigma2,sigma3,w0,w1,w2\r\n",
        "print(Em_threegmm())\r\n",
        "# (array([7.02279792, 4.01612688]), array([5.01456231, 7.00397856]), array([3.0455457 , 3.06498209]), array([[0.98832491, 0.50015886],\r\n",
        "#        [0.50015886, 0.99555822]]), array([[0.9762888 , 0.18303514],\r\n",
        "#        [0.18303514, 0.97118469]]), array([[1.03305204, 0.03778815],\r\n",
        "#        [0.03778815, 3.418058  ]]), 0.2982757484238151, 0.4947787533180617, 0.2069454982581232)"
      ],
      "execution_count": null,
      "outputs": [
        {
          "output_type": "stream",
          "text": [
            "(array([7.02279792, 4.01612688]), array([5.01456231, 7.00397856]), array([3.0455457 , 3.06498209]), array([[0.98832491, 0.50015886],\n",
            "       [0.50015886, 0.99555822]]), array([[0.9762888 , 0.18303514],\n",
            "       [0.18303514, 0.97118469]]), array([[1.03305204, 0.03778815],\n",
            "       [0.03778815, 3.418058  ]]), 0.2982757484238151, 0.4947787533180617, 0.2069454982581232)\n"
          ],
          "name": "stdout"
        }
      ]
    },
    {
      "cell_type": "code",
      "metadata": {
        "colab": {
          "base_uri": "https://localhost:8080/"
        },
        "id": "DuHFp9NERCHp",
        "outputId": "9f2fb815-811b-4486-9f4d-2359cc9f8425"
      },
      "source": [
        ""
      ],
      "execution_count": null,
      "outputs": [
        {
          "output_type": "stream",
          "text": [
            "Thu Feb 18 18:27:47 2021       \n",
            "+-----------------------------------------------------------------------------+\n",
            "| NVIDIA-SMI 460.39       Driver Version: 460.32.03    CUDA Version: 11.2     |\n",
            "|-------------------------------+----------------------+----------------------+\n",
            "| GPU  Name        Persistence-M| Bus-Id        Disp.A | Volatile Uncorr. ECC |\n",
            "| Fan  Temp  Perf  Pwr:Usage/Cap|         Memory-Usage | GPU-Util  Compute M. |\n",
            "|                               |                      |               MIG M. |\n",
            "|===============================+======================+======================|\n",
            "|   0  Tesla P100-PCIE...  Off  | 00000000:00:04.0 Off |                    0 |\n",
            "| N/A   46C    P0    29W / 250W |      0MiB / 16280MiB |      0%      Default |\n",
            "|                               |                      |                  N/A |\n",
            "+-------------------------------+----------------------+----------------------+\n",
            "                                                                               \n",
            "+-----------------------------------------------------------------------------+\n",
            "| Processes:                                                                  |\n",
            "|  GPU   GI   CI        PID   Type   Process name                  GPU Memory |\n",
            "|        ID   ID                                                   Usage      |\n",
            "|=============================================================================|\n",
            "|  No running processes found                                                 |\n",
            "+-----------------------------------------------------------------------------+\n"
          ],
          "name": "stdout"
        }
      ]
    }
  ]
}