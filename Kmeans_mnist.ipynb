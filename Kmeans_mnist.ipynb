{
  "nbformat": 4,
  "nbformat_minor": 0,
  "metadata": {
    "colab": {
      "name": "Q2 mnist.ipynb",
      "provenance": []
    },
    "kernelspec": {
      "name": "python3",
      "display_name": "Python 3"
    }
  },
  "cells": [
    {
      "cell_type": "code",
      "metadata": {
        "colab": {
          "base_uri": "https://localhost:8080/"
        },
        "id": "1hNErbTx2KEm",
        "outputId": "fde5b3de-84cf-4b3d-b3dd-4629cd76879e"
      },
      "source": [
        "import numpy as np\r\n",
        "from keras.datasets import mnist\r\n",
        "# load dataset\r\n",
        "(train_images, train_labels), (test_images, test_labels) = mnist.load_data()\r\n",
        "# summarize dataset shape\r\n",
        "print('Train', train_images.shape, train_labels.shape)\r\n",
        "print('Test', (test_images.shape, test_labels.shape))\r\n",
        "# summarize pixel values\r\n",
        "print('Train', train_images.min(), train_images.max(), train_images.mean(), train_images.std())\r\n",
        "print('Test', test_images.min(), test_images.max(), test_images.mean(), test_images.std())"
      ],
      "execution_count": null,
      "outputs": [
        {
          "output_type": "stream",
          "text": [
            "Downloading data from https://storage.googleapis.com/tensorflow/tf-keras-datasets/mnist.npz\n",
            "11493376/11490434 [==============================] - 0s 0us/step\n",
            "Train (60000, 28, 28) (60000,)\n",
            "Test ((10000, 28, 28), (10000,))\n",
            "Train 0 255 33.318421449829934 78.56748998339798\n",
            "Test 0 255 33.791224489795916 79.17246322228644\n"
          ],
          "name": "stdout"
        }
      ]
    },
    {
      "cell_type": "code",
      "metadata": {
        "id": "Hn5CQ2xV2_uO"
      },
      "source": [
        "train_vector = np.reshape(train_images, (60000, 28 * 28))\r\n",
        "test_vector = np.reshape(test_images, (10000, 28 * 28))\r\n",
        "train_matrix = (train_vector - train_vector.mean()/train_images.std())\r\n",
        "test_matrix = (test_vector - test_vector.mean())/train_images.std()"
      ],
      "execution_count": null,
      "outputs": []
    },
    {
      "cell_type": "code",
      "metadata": {
        "id": "p4S2tOf0iXrR"
      },
      "source": [
        "def initialize_centroids(data,k):\r\n",
        "  centroids = data[np.random.choice(np.arange(len(data)),k,False)]\r\n",
        "  return centroids\r\n"
      ],
      "execution_count": null,
      "outputs": []
    },
    {
      "cell_type": "code",
      "metadata": {
        "id": "4iKyFeoWuQqM"
      },
      "source": [
        "import numpy as np\r\n",
        "from sklearn.metrics.pairwise import cosine_similarity, euclidean_distances\r\n",
        "\r\n",
        "def euc_dist(x,y):\r\n",
        "  sq_dist = euclidean_distances(x,y)\r\n",
        "  return sq_dist\r\n",
        "\r\n",
        "# def cosine_distance(x,y):\r\n",
        "#   cosine_distances = cosine_similarity(x,y)\r\n",
        "#   return cosine_distances\r\n",
        "\r\n",
        "def initialize_centroids(data,k):\r\n",
        "  centroids = data[np.random.choice(np.arange(len(data)),k)]\r\n",
        "  return centroids\r\n",
        "\r\n",
        "def new_centroids(sq_dist, data,k):\r\n",
        "  # if cosine:\r\n",
        "  #   clusters = np.argmax(sq_dist, axis=0)\r\n",
        "  # else:\r\n",
        "  clusters = np.argmin(sq_dist, axis=0)\r\n",
        "  centroids = np.empty(shape=(k,)+data.shape[1:])\r\n",
        "\r\n",
        "  for k in range(k):\r\n",
        "    centroids[k] = np.mean(data[clusters == k], axis=0)\r\n",
        "  return clusters, centroids\r\n",
        "\r\n",
        "def kmeans(data, k):\r\n",
        "  prev_centroids = np.zeros(shape=(k,)+data.shape[1:])\r\n",
        "  centroids = initialize_centroids(data,k)\r\n",
        "  iteration = 0\r\n",
        "  while not np.array_equal(prev_centroids,centroids):\r\n",
        "    prev_centroids = centroids.copy()\r\n",
        "    iteration+=1\r\n",
        "\r\n",
        "    # if cosine:\r\n",
        "    #   distance_matrix = cosine_distance(centroids,data)\r\n",
        "    # else:\r\n",
        "    distance_matrix = euc_dist(centroids,data)\r\n",
        "    clusters,centroids = new_centroids(distance_matrix, data,k)\r\n",
        "  return clusters\r\n",
        "\r\n",
        "  gini_num = 0\r\n",
        "  gini_den = 0\r\n",
        "  for cluster_count in count_per_cluster:\r\n",
        "    total  = np.sum(cluster_count)\r\n",
        "    gini_den+=total\r\n",
        "    sum = 0\r\n",
        "    for count in cluster_count:\r\n",
        "      sum +=pow(count/total,2)\r\n",
        "    gini_num +=((1-sum)*total)\r\n",
        "  gini_coefficient = gini_num/gini_den\r\n",
        "  return purity, gini_coefficient\r\n",
        "\r\n",
        "     \r\n"
      ],
      "execution_count": null,
      "outputs": []
    },
    {
      "cell_type": "code",
      "metadata": {
        "colab": {
          "base_uri": "https://localhost:8080/"
        },
        "id": "tDNX5CRH3Mx2",
        "outputId": "8c68c063-8728-490c-fbe7-2fa97eefc7e1"
      },
      "source": [
        "clusters= kmeans(train_matrix,20)\r\n",
        "print(clusters)\r\n"
      ],
      "execution_count": null,
      "outputs": [
        {
          "output_type": "stream",
          "text": [
            "[12  2  4 ...  8 16 17]\n"
          ],
          "name": "stdout"
        }
      ]
    },
    {
      "cell_type": "code",
      "metadata": {
        "id": "KIOYwfVKEte_"
      },
      "source": [
        ""
      ],
      "execution_count": null,
      "outputs": []
    },
    {
      "cell_type": "code",
      "metadata": {
        "colab": {
          "base_uri": "https://localhost:8080/"
        },
        "id": "Yw8OQU71MGmd",
        "outputId": "153e4b66-0a44-4e00-b6a4-91babacd3d42"
      },
      "source": [
        "def clustering_performance(labels, clusters):\r\n",
        "  count_per_cluster = []\r\n",
        "  n=0\r\n",
        "  #bins = np.concatenate((np.unique(labels),[np.max(np.unique(labels))+1]),axis=0)\r\n",
        "  for cluster in np.unique(clusters):\r\n",
        "     (unique,counts)=  np.unique(labels[clusters==cluster],return_counts=True)\r\n",
        "     count_per_cluster.append(counts)\r\n",
        "     #count_per_cluster.append(np.histogram(labels[clusters==cluster],bins=bins)[0])\r\n",
        "  total_true = 0\r\n",
        " \r\n",
        "  for cluster_count in count_per_cluster:\r\n",
        "    total_true += np.max(cluster_count)\r\n",
        "    purity = total_true / clusters.shape[0]\r\n",
        "  \r\n",
        "  gini_num = 0\r\n",
        "  gini_column=[]\r\n",
        "  gini_den = 0\r\n",
        "  for cluster_count in count_per_cluster:\r\n",
        "    total  = np.sum(cluster_count)\r\n",
        "    gini_den+=total\r\n",
        "    sum = 0\r\n",
        "    for count in cluster_count:\r\n",
        "      sum +=pow(count/total,2)\r\n",
        "    gini_column.append(1-sum)\r\n",
        "    gini_num +=((1-sum)*total)\r\n",
        "  gini_coefficient = gini_num/gini_den\r\n",
        "  return purity, gini_coefficient,gini_column\r\n",
        " \r\n",
        "  #return gini_column\r\n",
        "print(clustering_performance(train_labels,clusters))\r\n"
      ],
      "execution_count": null,
      "outputs": [
        {
          "output_type": "stream",
          "text": [
            "(0.7060666666666666, 0.4091971445326492, [0.10814629284597244, 0.636326570376566, 0.1515182324250105, 0.10205911548402413, 0.681945010858777, 0.3275046911999999, 0.2868022020486096, 0.25453113711435493, 0.6949836645342411, 0.7035916425051847, 0.13314813421022353, 0.6185106199342482, 0.47007359019011463, 0.07938686555942132, 0.5072016629113121, 0.31734571170272363, 0.2526270200840248, 0.6651487715501843, 0.5077272340206643, 0.17385767757954051])\n"
          ],
          "name": "stdout"
        }
      ]
    },
    {
      "cell_type": "code",
      "metadata": {
        "id": "VQt7U7UYMJ1Y"
      },
      "source": [
        ""
      ],
      "execution_count": null,
      "outputs": []
    }
  ]
}