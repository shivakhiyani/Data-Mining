{
  "nbformat": 4,
  "nbformat_minor": 0,
  "metadata": {
    "colab": {
      "name": "Q2 20ng.ipynb",
      "provenance": [],
      "machine_shape": "hm"
    },
    "kernelspec": {
      "name": "python3",
      "display_name": "Python 3"
    }
  },
  "cells": [
    {
      "cell_type": "code",
      "metadata": {
        "colab": {
          "base_uri": "https://localhost:8080/"
        },
        "id": "ZFvHvg_DGjg9",
        "outputId": "d437c751-0503-4b2b-ae87-d3866b62eab6"
      },
      "source": [
        "from sklearn.datasets import fetch_20newsgroups\r\n",
        "newsgroups_train = fetch_20newsgroups(subset='train')\r\n",
        "print(newsgroups_train.target[:10])\r\n",
        "newsgroups_test = fetch_20newsgroups(subset='test')\r\n",
        "#newsgroups = fetch_20newsgroups()\r\n",
        "\r\n",
        "from sklearn.feature_extraction.text import TfidfVectorizer\r\n",
        "vectorizer = TfidfVectorizer()\r\n",
        "vector1 = vectorizer.fit_transform(newsgroups_train.data)\r\n",
        "vector_1=vector1\r\n",
        "\r\n",
        "vector2 = vectorizer.transform(newsgroups_train.data)\r\n",
        "data=vector2.toarray()\r\n",
        "train_label=newsgroups_train.target\r\n",
        "\r\n"
      ],
      "execution_count": null,
      "outputs": [
        {
          "output_type": "stream",
          "text": [
            "Downloading 20news dataset. This may take a few minutes.\n",
            "Downloading dataset from https://ndownloader.figshare.com/files/5975967 (14 MB)\n"
          ],
          "name": "stderr"
        },
        {
          "output_type": "stream",
          "text": [
            "[ 7  4  4  1 14 16 13  3  2  4]\n"
          ],
          "name": "stdout"
        }
      ]
    },
    {
      "cell_type": "code",
      "metadata": {
        "id": "O2CGdOzXG5om"
      },
      "source": [
        "import numpy as np\r\n",
        "from sklearn.metrics.pairwise import cosine_similarity, euclidean_distances\r\n",
        "\r\n",
        "# def euc_dist(x,y):\r\n",
        "#   sq_dist = euclidean_distances(x,y)\r\n",
        "#   return sq_dist\r\n",
        "\r\n",
        "def cosine_distance(x,y):\r\n",
        "  cosine_distances = cosine_similarity(x,y)\r\n",
        "  return cosine_distances\r\n",
        "\r\n",
        "def initialize_centroids(data,k):\r\n",
        "  centroids = data[np.random.choice(np.arange(len(data)),k,False)]\r\n",
        "  return centroids\r\n",
        "\r\n",
        "def new_centroids(sq_dist, data,k, cosine=False):\r\n",
        "  if cosine:\r\n",
        "    clusters = np.argmax(sq_dist, axis=0)\r\n",
        "  else:\r\n",
        "    clusters = np.argmin(sq_dist, axis=0)\r\n",
        "  centroids = np.empty(shape=(k,)+data.shape[1:])\r\n",
        "\r\n",
        "  for k in range(k):\r\n",
        "    centroids[k] = np.mean(data[clusters == k], axis=0)\r\n",
        "  return clusters, centroids\r\n",
        "\r\n",
        "def kmeans(data, k, cosine=False):\r\n",
        "  prev_centroids = np.zeros(shape=(k,)+data.shape[1:])\r\n",
        "  centroids = initialize_centroids(data,k)\r\n",
        "  iteration = 0\r\n",
        "  while not np.array_equal(prev_centroids,centroids):\r\n",
        "    prev_centroids = centroids.copy()\r\n",
        "    iteration+=1\r\n",
        "\r\n",
        "    if cosine:\r\n",
        "      distance_matrix = cosine_distance(centroids,data)\r\n",
        "    else:\r\n",
        "      distance_matrix = euc_dist(centroids,data)\r\n",
        "    clusters,centroids = new_centroids(distance_matrix, data,k, cosine)\r\n",
        "  return clusters"
      ],
      "execution_count": null,
      "outputs": []
    },
    {
      "cell_type": "code",
      "metadata": {
        "id": "B-ptQ5McJ7Lz"
      },
      "source": [
        "clusters= kmeans(data,20,True)"
      ],
      "execution_count": null,
      "outputs": []
    },
    {
      "cell_type": "code",
      "metadata": {
        "colab": {
          "base_uri": "https://localhost:8080/"
        },
        "id": "Nbq6Vm7kHZn5",
        "outputId": "724a6c0d-f79d-429b-e33f-d748ba72e293"
      },
      "source": [
        "def clustering_performance(labels, clusters):\r\n",
        "  count_per_cluster = []\r\n",
        "  n=0\r\n",
        "  bins = np.concatenate((np.unique(labels),[np.max(np.unique(labels))+1]),axis=0)\r\n",
        "  for cluster in np.unique(clusters):\r\n",
        "    #  (unique,counts)=  np.unique(labels[clusters==cluster],return_counts=True)\r\n",
        "    #  count_per_cluster.append(counts)\r\n",
        "     count_per_cluster.append(np.histogram(labels[clusters==cluster],bins=bins)[0])\r\n",
        "  total_true = 0\r\n",
        " \r\n",
        "  for cluster_count in count_per_cluster:\r\n",
        "    total_true += np.max(cluster_count)\r\n",
        "    purity = total_true / clusters.shape[0]\r\n",
        "  \r\n",
        "  gini_num = 0\r\n",
        "  gini_column=[]\r\n",
        "  gini_den = 0\r\n",
        "  for cluster_count in count_per_cluster:\r\n",
        "    total  = np.sum(cluster_count)\r\n",
        "    gini_den+=total\r\n",
        "    sum = 0\r\n",
        "    for count in cluster_count:\r\n",
        "      sum +=pow(count/total,2)\r\n",
        "    gini_column.append(1-sum)\r\n",
        "    gini_num +=((1-sum)*total)\r\n",
        "  gini_coefficient = gini_num/gini_den\r\n",
        "  return purity, gini_coefficient,gini_column\r\n",
        " \r\n",
        "  #return gini_column\r\n",
        "print(clustering_performance(train_label,clusters))"
      ],
      "execution_count": null,
      "outputs": [
        {
          "output_type": "stream",
          "text": [
            "(0.2770019444935478, 0.8042579268969261, [0.9287661979402444, 0.7352029247072979, 0.6265942250790736, 0.645055357477951, 0.8596, 0.9143457256878806, 0.07082475965592838, 0.9040156364117339, 0.8117895944637671, 0.547845142439737, 0.7909729448491154, 0.6837422073152883, 0.845679012345679, 0.5422060474787971, 0.9202963830458087, 0.8515820756366179, 0.8198452976253628, 0.7841975308641975, 0.8326124567474049, 0.9397938742923502])\n"
          ],
          "name": "stdout"
        }
      ]
    }
  ]
}